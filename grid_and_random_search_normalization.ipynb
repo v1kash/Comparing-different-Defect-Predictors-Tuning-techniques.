{
  "nbformat": 4,
  "nbformat_minor": 0,
  "metadata": {
    "kernelspec": {
      "language": "python",
      "display_name": "Python 3",
      "name": "python3"
    },
    "language_info": {
      "pygments_lexer": "ipython3",
      "nbconvert_exporter": "python",
      "version": "3.6.4",
      "file_extension": ".py",
      "codemirror_mode": {
        "name": "ipython",
        "version": 3
      },
      "name": "python",
      "mimetype": "text/x-python"
    },
    "colab": {
      "name": "grid-and-random-search.ipynb",
      "provenance": []
    },
    "accelerator": "GPU"
  },
  "cells": [
    {
      "cell_type": "code",
      "metadata": {
        "id": "USZhDXIIUCQh",
        "trusted": true
      },
      "source": [
        "#import lib\n",
        "import numpy as np\n",
        "import matplotlib.pyplot as plt\n",
        "import pandas as pd"
      ],
      "execution_count": 17,
      "outputs": []
    },
    {
      "cell_type": "code",
      "metadata": {
        "id": "Z7XvaNy5J7I9",
        "outputId": "8a4f35b4-9772-4a4c-815e-04bf9757197f",
        "colab": {
          "base_uri": "https://localhost:8080/"
        }
      },
      "source": [
        "from google.colab import drive\n",
        "drive.mount('/content/drive')"
      ],
      "execution_count": 3,
      "outputs": [
        {
          "output_type": "stream",
          "text": [
            "Mounted at /content/drive\n"
          ],
          "name": "stdout"
        }
      ]
    },
    {
      "cell_type": "code",
      "metadata": {
        "id": "KLYqdSEQaZs9",
        "trusted": true
      },
      "source": [
        "df=pd.read_csv('/content/drive/My Drive/Ml/jm1.csv')\n",
        "\n",
        "df['uniq_Op'] = pd.to_numeric(df['uniq_Op'], errors='coerce') ## convert to number, make NaNs from ?s \n",
        "df['uniq_Opnd'] = pd.to_numeric(df['uniq_Opnd'], errors='coerce') ## convert to number, make NaNs from ?s \n",
        "df['total_Op'] = pd.to_numeric(df['total_Op'], errors='coerce') ## convert to number, make NaNs from ?s \n",
        "df['total_Opnd'] = pd.to_numeric(df['total_Opnd'], errors='coerce') ## convert to number, make NaNs from ?s \n",
        "df['branchCount'] = pd.to_numeric(df['branchCount'], errors='coerce') ## convert to number, make NaNs from ?s \n",
        "df['defects'] = df['defects'].astype(int)\n",
        "\n",
        "df = df.dropna()\n",
        "df = df.reset_index(drop=True)\n"
      ],
      "execution_count": 29,
      "outputs": []
    },
    {
      "cell_type": "code",
      "metadata": {
        "id": "tNML9oJLabCt",
        "trusted": true
      },
      "source": [
        "from sklearn import model_selection\n",
        "\n",
        "# Split-out validation dataset\n",
        "array = df.values\n",
        "X = array[:,0:21]\n",
        "Y = array[:,21]\n",
        "\n",
        "# Get Training and Validation sets\n",
        "X_train, X_validation, Y_train, Y_validation = model_selection.train_test_split(X, Y, test_size=0.2, random_state=7)\n",
        "from sklearn.preprocessing import StandardScaler\n",
        "sc= StandardScaler()\n",
        "X_train=sc.fit_transform(X_train)\n",
        "X_validation=sc.fit_transform(X_validation)"
      ],
      "execution_count": 30,
      "outputs": []
    },
    {
      "cell_type": "code",
      "metadata": {
        "id": "10WKKVcuNSM5",
        "trusted": true
      },
      "source": [
        "\"\"from sklearn.svm import SVC\n",
        "classifier=SVC(kernel='rbf',random_state=0)\n",
        "%time classifier.fit(X_train,Y_train)\"\"\n",
        "\n",
        "#predicting\n",
        "y_pred=classifier.predict(X_validation)\n"
      ],
      "execution_count": 32,
      "outputs": []
    },
    {
      "cell_type": "code",
      "metadata": {
        "id": "Up5Fck-db8Hx",
        "trusted": true,
        "outputId": "d5a6cecf-9fb2-4c98-efd9-baf3daa57273",
        "colab": {
          "base_uri": "https://localhost:8080/"
        }
      },
      "source": [
        "from sklearn.metrics import accuracy_score,recall_score,precision_score,f1_score\n",
        "#print(\"1. Accuracy: {}\".format(accuracy_score(Y_validation, y_pred)))\n",
        "#print(\"2. Confusion Matrix:n{}\".format(pd.crosstab(Y_validation, y_pred, rownames=['True'], colnames=['Predicted'])))\n",
        "#f1_score(Y_validation, y_pred, average='weighted')\n",
        "print('Accuracy Score : ' + str(accuracy_score(Y_validation,y_pred)))\n",
        "print('Precision Score : ' + str(precision_score(Y_validation,y_pred)))\n",
        "print('Recall Score : ' + str(recall_score(Y_validation,y_pred)))\n",
        "print('F1 Score : ' + str(f1_score(Y_validation,y_pred)))\n",
        "\n",
        "from sklearn.metrics import confusion_matrix\n",
        "print('Confusion Matrix : \\n' + str(confusion_matrix(Y_validation,y_pred)))\n"
      ],
      "execution_count": 33,
      "outputs": [
        {
          "output_type": "stream",
          "text": [
            "Accuracy Score : 0.8092830882352942\n",
            "Precision Score : 0.4380165289256198\n",
            "Recall Score : 0.2753246753246753\n",
            "F1 Score : 0.33811802232854865\n",
            "Confusion Matrix : \n",
            "[[1655  136]\n",
            " [ 279  106]]\n"
          ],
          "name": "stdout"
        }
      ]
    },
    {
      "cell_type": "markdown",
      "metadata": {
        "id": "9do2ejOFJu-m"
      },
      "source": [
        "\n",
        "\n",
        "```\n",
        "`# This is formatted as code`\n",
        "```\n",
        "\n",
        "Grid Search Implementation:"
      ]
    },
    {
      "cell_type": "code",
      "metadata": {
        "id": "Paf9dMdDhxrE",
        "trusted": true,
        "outputId": "95d7f721-a675-44b0-ce1d-725f04b039b2",
        "colab": {
          "base_uri": "https://localhost:8080/"
        }
      },
      "source": [
        "from sklearn.model_selection import GridSearchCV\n",
        "from sklearn.svm import SVC\n",
        "\n",
        "classifier=SVC(kernel='rbf',random_state=0)\n",
        "parameters={'C':[1e-2,1e-1,1,1e1,0.009,0.01,0.09,5,10,25,100],'kernel':['rbf'],'gamma':[0.1,0.01,1e-5,1e-4,1e-3]}\n",
        "grid = GridSearchCV(classifier,parameters,n_jobs=-1,cv=3,scoring='accuracy')\n",
        "%time grid = grid.fit(X_train,Y_train)\n",
        "best_acc = grid.best_score_\n",
        "best_param = grid.best_params_"
      ],
      "execution_count": 34,
      "outputs": [
        {
          "output_type": "stream",
          "text": [
            "CPU times: user 4.53 s, sys: 34.2 ms, total: 4.56 s\n",
            "Wall time: 2min 57s\n"
          ],
          "name": "stdout"
        }
      ]
    },
    {
      "cell_type": "code",
      "metadata": {
        "id": "HSYdk6UKWMZL",
        "trusted": true,
        "outputId": "a028624f-8e41-4dde-bef1-c75692de69c2",
        "colab": {
          "base_uri": "https://localhost:8080/"
        }
      },
      "source": [
        "print(best_acc)\n",
        "print(best_param)\n",
        "#pd.DataFrame(grid.cv_results_)"
      ],
      "execution_count": 35,
      "outputs": [
        {
          "output_type": "stream",
          "text": [
            "0.814567811839244\n",
            "{'C': 5, 'gamma': 0.1, 'kernel': 'rbf'}\n"
          ],
          "name": "stdout"
        }
      ]
    },
    {
      "cell_type": "markdown",
      "metadata": {
        "id": "rLcHuINXJu-7"
      },
      "source": [
        "random search implemenatation:"
      ]
    },
    {
      "cell_type": "code",
      "metadata": {
        "trusted": true,
        "id": "Uorhuiv4Ju-8",
        "outputId": "5d8117d4-5fef-4c8b-e6ca-317ac92f8555",
        "colab": {
          "base_uri": "https://localhost:8080/"
        }
      },
      "source": [
        "from sklearn.model_selection import RandomizedSearchCV\n",
        "\n",
        "from sklearn.svm import SVC\n",
        "classifier=SVC(kernel='rbf',random_state=0)\n",
        "parameters={'C':[1e-2,1e-1,1,1e1,0.009,0.01,0.09,5,10,25],'kernel':['rbf'],'gamma':[0.1,0.01,1e-5,1e-4,1e-3]}\n",
        "random =RandomizedSearchCV(classifier,parameters,n_iter=10,cv=3,scoring='accuracy',n_jobs=-1)\n",
        "%time random=random.fit(X_train,Y_train)\n",
        "best_acc=random.best_score_\n",
        "best_param=random.best_params_"
      ],
      "execution_count": 27,
      "outputs": [
        {
          "output_type": "stream",
          "text": [
            "CPU times: user 2.98 s, sys: 18.2 ms, total: 3 s\n",
            "Wall time: 28.1 s\n"
          ],
          "name": "stdout"
        }
      ]
    },
    {
      "cell_type": "code",
      "metadata": {
        "trusted": true,
        "id": "ZTPQaeLdJu_B",
        "outputId": "f7a5cc6f-0a4b-44f8-a31f-478fa464c47c",
        "colab": {
          "base_uri": "https://localhost:8080/"
        }
      },
      "source": [
        "print(best_acc)\n",
        "print(best_param)\n",
        "#pd.DataFrame(random.cv_results_)"
      ],
      "execution_count": 28,
      "outputs": [
        {
          "output_type": "stream",
          "text": [
            "0.8135337648646231\n",
            "{'kernel': 'rbf', 'gamma': 0.1, 'C': 1}\n"
          ],
          "name": "stdout"
        }
      ]
    },
    {
      "cell_type": "markdown",
      "metadata": {
        "id": "RZHOD-QZTT-H"
      },
      "source": [
        "Differential Evolution Implementation:\n"
      ]
    },
    {
      "cell_type": "code",
      "metadata": {
        "id": "eV-tKc45TTjt"
      },
      "source": [
        "from scipy.optimize differential_evolution\n",
        "bounds = [(0,2)]\n",
        "#classifier.fit(X_train,Y_train)\n",
        "result = differential_evolution(classifier, bounds)\n",
        "result.x, result.fun"
      ],
      "execution_count": null,
      "outputs": []
    }
  ]
}