{
 "cells": [
  {
   "cell_type": "code",
   "execution_count": null,
   "metadata": {
    "executionInfo": {
     "elapsed": 2446,
     "status": "ok",
     "timestamp": 1604666090667,
     "user": {
      "displayName": "Rahul Sud",
      "photoUrl": "",
      "userId": "12361679968687538312"
     },
     "user_tz": -330
    },
    "id": "USZhDXIIUCQh"
   },
   "outputs": [],
   "source": [
    "#import lib\n",
    "import numpy as np\n",
    "import matplotlib.pyplot as plt\n",
    "import pandas as pd\n",
    "\n"
   ]
  },
  {
   "cell_type": "code",
   "execution_count": 51,
   "metadata": {
    "executionInfo": {
     "elapsed": 2197,
     "status": "ok",
     "timestamp": 1604666149886,
     "user": {
      "displayName": "Rahul Sud",
      "photoUrl": "",
      "userId": "12361679968687538312"
     },
     "user_tz": -330
    },
    "id": "KLYqdSEQaZs9"
   },
   "outputs": [],
   "source": [
    "df=pd.read_csv('/content/drive/My Drive/Ml/jm1.csv')\n",
    "\n",
    "df['uniq_Op'] = pd.to_numeric(df['uniq_Op'], errors='coerce') ## convert to number, make NaNs from ?s \n",
    "df['uniq_Opnd'] = pd.to_numeric(df['uniq_Opnd'], errors='coerce') ## convert to number, make NaNs from ?s \n",
    "df['total_Op'] = pd.to_numeric(df['total_Op'], errors='coerce') ## convert to number, make NaNs from ?s \n",
    "df['total_Opnd'] = pd.to_numeric(df['total_Opnd'], errors='coerce') ## convert to number, make NaNs from ?s \n",
    "df['branchCount'] = pd.to_numeric(df['branchCount'], errors='coerce') ## convert to number, make NaNs from ?s \n",
    "df['defects'] = df['defects'].astype(int)\n",
    "\n",
    "df = df.dropna()\n",
    "df = df.reset_index(drop=True)\n",
    "\n"
   ]
  },
  {
   "cell_type": "code",
   "execution_count": 52,
   "metadata": {
    "executionInfo": {
     "elapsed": 2584,
     "status": "ok",
     "timestamp": 1604666153279,
     "user": {
      "displayName": "Rahul Sud",
      "photoUrl": "",
      "userId": "12361679968687538312"
     },
     "user_tz": -330
    },
    "id": "tNML9oJLabCt"
   },
   "outputs": [],
   "source": [
    "from sklearn import model_selection\n",
    "\n",
    "# Split-out validation dataset\n",
    "array = df.values\n",
    "X = array[:,0:21]\n",
    "Y = array[:,21]\n",
    "\n",
    "# Get Training and Validation sets\n",
    "X_train, X_validation, Y_train, Y_validation = model_selection.train_test_split(X, Y, test_size=0.2, random_state=7)"
   ]
  },
  {
   "cell_type": "code",
   "execution_count": 53,
   "metadata": {
    "colab": {
     "base_uri": "https://localhost:8080/"
    },
    "executionInfo": {
     "elapsed": 4581,
     "status": "ok",
     "timestamp": 1604666159679,
     "user": {
      "displayName": "Rahul Sud",
      "photoUrl": "",
      "userId": "12361679968687538312"
     },
     "user_tz": -330
    },
    "id": "yURGMUPha8ga",
    "outputId": "5e0a4251-e02c-485f-912d-f60a7aaa3bdb"
   },
   "outputs": [
    {
     "name": "stdout",
     "output_type": "stream",
     "text": [
      "1. Accuracy: 0.8235294117647058\n",
      "2. Confusion Matrix:nPredicted   0.0  1.0\n",
      "True                \n",
      "0.0        1767   24\n",
      "1.0         360   25\n"
     ]
    }
   ],
   "source": [
    "from sklearn.metrics import accuracy_score\n",
    "from sklearn.linear_model import LogisticRegression\n",
    "\"\"\"model = LogisticRegression()\n",
    "model.fit(X_train, Y_train)\n",
    "predictions = model.predict(X_validation)\"\"\"\n",
    "\n",
    "\"\"\"from sklearn.ensemble import RandomForestClassifier\n",
    "classifier=RandomForestClassifier(n_estimators=10,criterion=\"entropy\",random_state=0)\n",
    "classifier.fit(X_train,Y_train.ravel())\"\"\"\n",
    "\n",
    "from sklearn.svm import SVC\n",
    "classifier=SVC(kernel='rbf',random_state=0)\n",
    "classifier.fit(X_train,Y_train)\n",
    "\n",
    "#predicting\n",
    "y_pred=classifier.predict(X_validation)\n",
    "\n",
    "print(\"1. Accuracy: {}\".format(accuracy_score(Y_validation, predictions)))\n",
    "print(\"2. Confusion Matrix:n{}\".format(pd.crosstab(Y_validation, predictions, rownames=['True'], colnames=['Predicted'])))"
   ]
  },
  {
   "cell_type": "code",
   "execution_count": 54,
   "metadata": {
    "colab": {
     "base_uri": "https://localhost:8080/"
    },
    "executionInfo": {
     "elapsed": 3130,
     "status": "ok",
     "timestamp": 1604666166772,
     "user": {
      "displayName": "Rahul Sud",
      "photoUrl": "",
      "userId": "12361679968687538312"
     },
     "user_tz": -330
    },
    "id": "Up5Fck-db8Hx",
    "outputId": "42a0e66a-4941-4076-a5e3-638fcaab99d6"
   },
   "outputs": [
    {
     "data": {
      "text/plain": [
       "0.7472281390227138"
      ]
     },
     "execution_count": 54,
     "metadata": {
      "tags": []
     },
     "output_type": "execute_result"
    }
   ],
   "source": [
    "# calculates f1 for 1:100 dataset with 95tp, 5fn, 55fp\n",
    "from sklearn.metrics import f1_score\n",
    "f1_score(Y_validation, y_pred, average='weighted')\n"
   ]
  },
  {
   "cell_type": "code",
   "execution_count": null,
   "metadata": {
    "id": "Paf9dMdDhxrE"
   },
   "outputs": [],
   "source": [
    "from sklearn.model_selection import GridSearchCV\n",
    "parameters=[{'C':[1,10],'kernel':['linear']},\n",
    "            {'C':[1,10],'kernel':['rbf'],'gamma':[0.1,0.01]} ]\n",
    "grid=GridSearchCV(estimator=classifier,param_grid=parameters,n_jobs=-1,cv=10)\n",
    "grid=grid.fit(X_train,Y_train)\n",
    "best_acc=grid.best_score_\n",
    "best_param=grid.best_params_"
   ]
  }
 ],
 "metadata": {
  "accelerator": "GPU",
  "colab": {
   "authorship_tag": "ABX9TyO8ANbEg7TtIWF15JNLOn8G",
   "collapsed_sections": [],
   "mount_file_id": "1yu0T5dO5V4Ah0flGhNSMxnQw8UcFDR4N",
   "name": "grid search.ipynb",
   "provenance": [],
   "toc_visible": true
  },
  "kernelspec": {
   "display_name": "Python 3",
   "language": "python",
   "name": "python3"
  },
  "language_info": {
   "codemirror_mode": {
    "name": "ipython",
    "version": 3
   },
   "file_extension": ".py",
   "mimetype": "text/x-python",
   "name": "python",
   "nbconvert_exporter": "python",
   "pygments_lexer": "ipython3",
   "version": "3.7.3"
  }
 },
 "nbformat": 4,
 "nbformat_minor": 1
}
